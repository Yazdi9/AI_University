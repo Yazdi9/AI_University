{
 "cells": [
  {
   "cell_type": "code",
   "execution_count": 2,
   "metadata": {},
   "outputs": [],
   "source": [
    "import numpy as np \n",
    "import torch \n",
    "\n",
    "#Set options for printing. Items shamelessly taken from NumPy\n",
    "\n",
    "#threshold – Total number of array elements which trigger summarization rather than full repr (default = 1000).\n",
    "\n",
    "#edgeitems – Number of array items in summary at beginning and end of each dimension (default = 3).\n",
    "\n",
    "torch.set_printoptions(edgeitems=2 , threshold=50)\n",
    "\n"
   ]
  },
  {
   "cell_type": "code",
   "execution_count": 15,
   "metadata": {},
   "outputs": [
    {
     "name": "stderr",
     "output_type": "stream",
     "text": [
      "C:\\Users\\DC\\AppData\\Local\\Temp\\ipykernel_14168\\3383840718.py:3: DeprecationWarning: Starting with ImageIO v3 the behavior of this function will switch to that of iio.v3.imread. To keep the current behavior (and make this warning disappear) use `import imageio.v2 as imageio` or call `imageio.v2.imread` directly.\n",
      "  img_arr=imageio.imread('../data/p1ch4/image-dog/bobby.jpg')\n"
     ]
    },
    {
     "data": {
      "text/plain": [
       "(720, 1280, 3)"
      ]
     },
     "execution_count": 15,
     "metadata": {},
     "output_type": "execute_result"
    }
   ],
   "source": [
    "import imageio \n",
    "\n",
    "img_arr=imageio.imread('../data/p1ch4/image-dog/bobby.jpg')\n",
    "img_arr.shape"
   ]
  },
  {
   "cell_type": "code",
   "execution_count": 5,
   "metadata": {},
   "outputs": [
    {
     "data": {
      "text/plain": [
       "torch.Size([3, 720, 1280])"
      ]
     },
     "execution_count": 5,
     "metadata": {},
     "output_type": "execute_result"
    }
   ],
   "source": [
    "img=torch.from_numpy(img_arr)\n",
    "\n",
    "#torch.permute(input, dims) → Tensor\n",
    "#Returns a view of the original tensor input with its dimensions permuted.\n",
    "\n",
    "out=img.permute(2,0,1)\n",
    "out.shape"
   ]
  },
  {
   "cell_type": "code",
   "execution_count": 10,
   "metadata": {},
   "outputs": [],
   "source": [
    "batch_size=3 \n",
    "batch=torch.zeros(batch_size,3,256,256,dtype=torch.uint8)"
   ]
  },
  {
   "cell_type": "code",
   "execution_count": 12,
   "metadata": {},
   "outputs": [
    {
     "name": "stderr",
     "output_type": "stream",
     "text": [
      "C:\\Users\\DC\\AppData\\Local\\Temp\\ipykernel_14168\\3081700657.py:9: DeprecationWarning: Starting with ImageIO v3 the behavior of this function will switch to that of iio.v3.imread. To keep the current behavior (and make this warning disappear) use `import imageio.v2 as imageio` or call `imageio.v2.imread` directly.\n",
      "  img_arr=imageio.imread(os.path.join(data_dir ,filename))\n"
     ]
    }
   ],
   "source": [
    "import os \n",
    "\n",
    "data_dir='../data/p1ch4/image-cats/'\n",
    "\n",
    "filenames=[name for name in os.listdir(data_dir) if os.path.splitext(name)[-1]=='.png']\n",
    "\n",
    "for i , filename in enumerate(filenames):\n",
    "\n",
    "    img_arr=imageio.imread(os.path.join(data_dir ,filename))\n",
    "\n",
    "    img_t=torch.from_numpy(img_arr)\n",
    "\n",
    "    img_t=img_t.permute(2,0,1)\n",
    "\n",
    "    img_t=img_t[:3]\n",
    "\n",
    "    batch[i]=img_t"
   ]
  },
  {
   "cell_type": "code",
   "execution_count": 17,
   "metadata": {},
   "outputs": [
    {
     "data": {
      "text/plain": [
       "tensor([[[[2.3991e-03, 2.3376e-03,  ..., 2.2914e-03, 2.4298e-03],\n",
       "          [2.6759e-03, 2.0607e-03,  ..., 2.0915e-03, 2.1223e-03],\n",
       "          ...,\n",
       "          [1.9839e-03, 1.9992e-03,  ..., 1.8608e-03, 1.7532e-03],\n",
       "          [1.9839e-03, 1.8916e-03,  ..., 1.8608e-03, 1.8454e-03]],\n",
       "\n",
       "         [[2.1376e-03, 2.0761e-03,  ..., 2.0761e-03, 2.2607e-03],\n",
       "          [2.4606e-03, 1.8301e-03,  ..., 1.8762e-03, 1.9070e-03],\n",
       "          ...,\n",
       "          [1.7070e-03, 1.7070e-03,  ..., 1.7224e-03, 1.6148e-03],\n",
       "          [1.7070e-03, 1.5994e-03,  ..., 1.6917e-03, 1.7070e-03]],\n",
       "\n",
       "         [[1.9839e-03, 1.8916e-03,  ..., 2.0300e-03, 2.2299e-03],\n",
       "          [2.3837e-03, 1.6917e-03,  ..., 1.8301e-03, 1.8608e-03],\n",
       "          ...,\n",
       "          [1.6609e-03, 1.6609e-03,  ..., 1.7993e-03, 1.6917e-03],\n",
       "          [1.6455e-03, 1.5071e-03,  ..., 1.7686e-03, 1.7839e-03]]],\n",
       "\n",
       "\n",
       "        [[[3.1065e-03, 2.9681e-03,  ..., 1.9992e-04, 1.8454e-04],\n",
       "          [3.0604e-03, 2.9527e-03,  ..., 2.1530e-04, 2.1530e-04],\n",
       "          ...,\n",
       "          [1.1534e-03, 1.0458e-03,  ..., 5.5363e-04, 5.6901e-04],\n",
       "          [1.3072e-03, 1.5840e-03,  ..., 5.6901e-04, 5.8439e-04]],\n",
       "\n",
       "         [[2.3222e-03, 2.1376e-03,  ..., 1.3841e-04, 1.2303e-04],\n",
       "          [2.3222e-03, 2.1530e-03,  ..., 1.6917e-04, 1.6917e-04],\n",
       "          ...,\n",
       "          [5.0750e-04, 3.9985e-04,  ..., 3.9985e-04, 4.1522e-04],\n",
       "          [6.1515e-04, 8.9196e-04,  ..., 4.1522e-04, 4.3060e-04]],\n",
       "\n",
       "         [[1.0458e-03, 8.1507e-04,  ..., 9.2272e-05, 7.6894e-05],\n",
       "          [1.0304e-03, 8.3045e-04,  ..., 9.2272e-05, 9.2272e-05],\n",
       "          ...,\n",
       "          [1.6917e-04, 3.0757e-05,  ..., 2.6144e-04, 2.7682e-04],\n",
       "          [2.9220e-04, 5.6901e-04,  ..., 2.7682e-04, 2.9220e-04]]],\n",
       "\n",
       "\n",
       "        [[[3.6601e-03, 3.6601e-03,  ..., 3.3064e-03, 3.3064e-03],\n",
       "          [3.6601e-03, 3.6601e-03,  ..., 3.3064e-03, 3.3064e-03],\n",
       "          ...,\n",
       "          [3.2910e-03, 3.2757e-03,  ..., 2.9220e-03, 2.9527e-03],\n",
       "          [3.2910e-03, 3.2757e-03,  ..., 2.9220e-03, 2.9527e-03]],\n",
       "\n",
       "         [[2.9988e-03, 2.9988e-03,  ..., 2.6913e-03, 2.6913e-03],\n",
       "          [2.9988e-03, 2.9988e-03,  ..., 2.6913e-03, 2.6913e-03],\n",
       "          ...,\n",
       "          [1.9685e-03, 1.9531e-03,  ..., 1.5840e-03, 1.6148e-03],\n",
       "          [1.9685e-03, 1.9531e-03,  ..., 1.5840e-03, 1.6148e-03]],\n",
       "\n",
       "         [[2.1069e-03, 2.1069e-03,  ..., 1.9377e-03, 1.9377e-03],\n",
       "          [2.1069e-03, 2.1069e-03,  ..., 1.9377e-03, 1.9377e-03],\n",
       "          ...,\n",
       "          [1.2149e-03, 1.1995e-03,  ..., 1.0611e-03, 1.0919e-03],\n",
       "          [1.2149e-03, 1.1995e-03,  ..., 1.0611e-03, 1.1073e-03]]]])"
      ]
     },
     "execution_count": 17,
     "metadata": {},
     "output_type": "execute_result"
    }
   ],
   "source": [
    "batch=batch.float()\n",
    "batch /=255.0\n",
    "batch"
   ]
  },
  {
   "cell_type": "code",
   "execution_count": null,
   "metadata": {},
   "outputs": [],
   "source": [
    "n_channels=batch.shape[1]\n",
    "\n",
    "for c in range(n_channels):\n",
    "\n",
    "    mean=torch.mean(batch[:,c])\n",
    "    std=torch.std(batch[:,c])\n",
    "    batch[:,c]=(batch[:,c]-mean) /std\n"
   ]
  }
 ],
 "metadata": {
  "kernelspec": {
   "display_name": "base",
   "language": "python",
   "name": "python3"
  },
  "language_info": {
   "codemirror_mode": {
    "name": "ipython",
    "version": 3
   },
   "file_extension": ".py",
   "mimetype": "text/x-python",
   "name": "python",
   "nbconvert_exporter": "python",
   "pygments_lexer": "ipython3",
   "version": "3.11.5"
  }
 },
 "nbformat": 4,
 "nbformat_minor": 2
}
