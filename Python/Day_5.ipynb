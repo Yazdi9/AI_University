{
 "cells": [
  {
   "cell_type": "markdown",
   "metadata": {},
   "source": [
    "# Question 16\n",
    "\n",
    "### **Question:**\n",
    "\n",
    "> **_Use a list comprehension to square each odd number in a list. The list is input by a sequence of comma-separated numbers._** >**_Suppose the following input is supplied to the program:_**\n",
    "\n",
    "\n",
    "1,2,3,4,5,6,7,8,9\n",
    "\n",
    "\n",
    "> **_Then, the output should be:_**\n",
    "\n",
    "\n",
    "1,9,25,49,81\n",
    "\n",
    "\n",
    "---\n",
    "\n",
    "### Hints:\n",
    "\n",
    "> **_In case of input data being supplied to the question, it should be assumed to be a console input._**\n",
    "\n",
    "---\n",
    "\n",
    "\n",
    "\n",
    "**Solutions:**"
   ]
  },
  {
   "cell_type": "code",
   "execution_count": 5,
   "metadata": {},
   "outputs": [
    {
     "name": "stdout",
     "output_type": "stream",
     "text": [
      "1,25\n"
     ]
    }
   ],
   "source": [
    "\n",
    "\n",
    "lst = [str(int(i) ** 2) for i in input().split(\",\") if int(i) % 2]\n",
    "print(\",\".join(lst))"
   ]
  },
  {
   "cell_type": "markdown",
   "metadata": {},
   "source": [
    "# Question 17\n",
    "\n",
    "### **Question:**\n",
    "\n",
    "> **_Write a program that computes the net amount of a bank account based a transaction log from console input. The transaction log format is shown as following:_**\n",
    "\n",
    "```\n",
    "D 100\n",
    "W 200\n",
    "```\n",
    "\n",
    "- D means deposit while W means withdrawal.\n",
    "\n",
    "> **_Suppose the following input is supplied to the program:_**\n",
    "\n",
    "```\n",
    "D 300\n",
    "D 300\n",
    "W 200\n",
    "D 100\n",
    "```\n",
    "\n",
    "> **_Then, the output should be:_**\n",
    "\n",
    "```\n",
    "500\n",
    "```\n",
    "\n",
    "---"
   ]
  },
  {
   "cell_type": "code",
   "execution_count": 9,
   "metadata": {},
   "outputs": [
    {
     "name": "stdout",
     "output_type": "stream",
     "text": [
      "0\n"
     ]
    }
   ],
   "source": [
    "total=0 \n",
    "while True:\n",
    "    s=input().split()\n",
    "    if not s:\n",
    "        break \n",
    "    cm,num=map(\n",
    "        str,s\n",
    "    )\n",
    "    if cm==\"D\":\n",
    "       total +=int(num)\n",
    "    if cm==\"W\":\n",
    "       total -=int(num) \n",
    "\n",
    "print(total)         "
   ]
  }
 ],
 "metadata": {
  "kernelspec": {
   "display_name": "Python 3",
   "language": "python",
   "name": "python3"
  },
  "language_info": {
   "codemirror_mode": {
    "name": "ipython",
    "version": 3
   },
   "file_extension": ".py",
   "mimetype": "text/x-python",
   "name": "python",
   "nbconvert_exporter": "python",
   "pygments_lexer": "ipython3",
   "version": "3.12.0"
  }
 },
 "nbformat": 4,
 "nbformat_minor": 2
}
