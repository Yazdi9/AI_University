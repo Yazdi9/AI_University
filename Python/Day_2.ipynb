{
 "cells": [
  {
   "cell_type": "markdown",
   "metadata": {},
   "source": []
  },
  {
   "cell_type": "markdown",
   "metadata": {},
   "source": [
    "# Question 4\n",
    "\n",
    "### **Question:**\n",
    "\n",
    "> **_Write a program which accepts a sequence of comma-separated numbers from console and generate a list and a tuple which contains every number.Suppose the following input is supplied to the program:_**\n",
    "\n",
    "\n",
    "34,67,55,33,12,98\n",
    "\n",
    "\n",
    "> **_Then, the output should be:_**\n",
    "\n",
    "\n",
    "['34', '67', '55', '33', '12', '98']\n",
    "('34', '67', '55', '33', '12', '98')\n",
    "\n",
    "\n",
    "### Hints:\n",
    "\n",
    "> **_In case of input data being supplied to the question, it should be assumed to be a console input.tuple() method can convert list to tuple_**\n",
    "\n",
    "---\n",
    "\n",
    "\n",
    "\n",
    "**Solutions:**"
   ]
  },
  {
   "cell_type": "code",
   "execution_count": 5,
   "metadata": {},
   "outputs": [
    {
     "name": "stdout",
     "output_type": "stream",
     "text": [
      "['8']\n",
      "('8',)\n"
     ]
    }
   ],
   "source": [
    "lst=input().split(\",\") \n",
    "tpl=tuple(lst)\n",
    "\n",
    "print(lst)\n",
    "print(tpl)"
   ]
  },
  {
   "cell_type": "markdown",
   "metadata": {},
   "source": [
    "---\n",
    "\n",
    "# Question 5\n",
    "\n",
    "### **Question:**\n",
    "\n",
    "> **_Define a class which has at least two methods:_**\n",
    ">\n",
    "> - **_getString: to get a string from console input_**\n",
    "> - **_printString: to print the string in upper case._**\n",
    "\n",
    "> **_Also please include simple test function to test the class methods._**\n",
    "\n",
    "### Hints:\n",
    "\n",
    "> **_Use **init** method to construct some parameters_**\n",
    "\n",
    "---\n",
    "\n",
    "\n",
    "\n",
    "**Solutions:**"
   ]
  },
  {
   "cell_type": "code",
   "execution_count": 7,
   "metadata": {},
   "outputs": [
    {
     "name": "stdout",
     "output_type": "stream",
     "text": [
      "GG\n"
     ]
    }
   ],
   "source": [
    "class IOstring:\n",
    "    \n",
    "    def __init__(self):\n",
    "        pass \n",
    "\n",
    "    def getString(self):\n",
    "        self.n=input()\n",
    "\n",
    "    def printString(self) :\n",
    "\n",
    "        self.n=print(self.n.upper()) \n",
    "\n",
    "xx=IOstring() \n",
    "x= xx.getString() \n",
    "x= xx.printString()       \n",
    "        \n",
    "    "
   ]
  },
  {
   "cell_type": "markdown",
   "metadata": {},
   "source": [
    "---\n",
    "\n",
    "# Question 6\n",
    "\n",
    "### **Question:**\n",
    "\n",
    "> **_Write a program that calculates and prints the value according to the given formula:_**\n",
    "\n",
    "> **_Q = Square root of [(2 _ C _ D)/H]_**\n",
    "\n",
    "> **_Following are the fixed values of C and H:_**\n",
    "\n",
    "> **_C is 50. H is 30._**\n",
    "\n",
    "> **_D is the variable whose values should be input to your program in a comma-separated sequence.For example\n",
    "> Let us assume the following comma separated input sequence is given to the program:_**\n",
    "\n",
    "\n",
    "100,150,180\n",
    "\n",
    "\n",
    "> **_The output of the program should be:_**\n",
    "\n",
    "\n",
    "18,22,24\n",
    "\n",
    "\n",
    "---\n",
    "\n",
    "### Hints:\n",
    "\n",
    "> **_If the output received is in decimal form, it should be rounded off to its nearest value (for example, if the output received is 26.0, it should be printed as 26).In case of input data being supplied to the question, it should be assumed to be a console input._**\n",
    "\n",
    "---"
   ]
  },
  {
   "cell_type": "code",
   "execution_count": 10,
   "metadata": {},
   "outputs": [
    {
     "name": "stdout",
     "output_type": "stream",
     "text": [
      "4\n"
     ]
    }
   ],
   "source": [
    "from math import sqrt \n",
    "\n",
    "C,H=50,30 \n",
    " \n",
    "def calc(D):\n",
    "    return sqrt((2*C*D)/H) \n",
    "\n",
    "D=[int(i) for i in input().split(\",\")]\n",
    "D=[int(i) for i in D]\n",
    "D=[calc(i) for i in D]\n",
    "D=[round(i) for i in D] \n",
    "D=[\n",
    "    str(i) for i in D\n",
    "]\n",
    "print(\",\".join(D))\n",
    "\n"
   ]
  },
  {
   "cell_type": "code",
   "execution_count": 11,
   "metadata": {},
   "outputs": [
    {
     "name": "stdout",
     "output_type": "stream",
     "text": [
      "13,12\n"
     ]
    }
   ],
   "source": [
    "print(\",\".join([str(int(calc(int(i)))) for i in input().split(\",\")]))"
   ]
  },
  {
   "cell_type": "markdown",
   "metadata": {},
   "source": [
    "---\n",
    "\n",
    "# Question 7\n",
    "\n",
    "### **Question:**\n",
    "\n",
    "> **_Write a program which takes 2 digits, X,Y as input and generates a 2-dimensional array. The element value in the i-th row and j-th column of the array should be i _ j.\\***\n",
    "\n",
    "> **_Note: i=0,1.., X-1; j=0,1,¡­Y-1. Suppose the following inputs are given to the program: 3,5_**\n",
    "\n",
    "> **_Then, the output of the program should be:_**\n",
    "\n",
    "\n",
    "[[0, 0, 0, 0, 0], [0, 1, 2, 3, 4], [0, 2, 4, 6, 8]]\n",
    "\n",
    "\n",
    "---\n",
    "\n",
    "### Hints:\n",
    "\n",
    "> **_Note: In case of input data being supplied to the question, it should be assumed to be a console input in a comma-separated form._**\n",
    "\n",
    "---\n",
    "\n",
    "\n",
    "\n",
    "**Solutions:**"
   ]
  },
  {
   "cell_type": "code",
   "execution_count": 16,
   "metadata": {},
   "outputs": [
    {
     "name": "stdout",
     "output_type": "stream",
     "text": [
      "[[0, 0, 0, 0, 0, 0, 0, 0, 0, 0], [0, 1, 2, 3, 4, 5, 6, 7, 8, 9], [0, 2, 4, 6, 8, 10, 12, 14, 16, 18], [0, 3, 6, 9, 12, 15, 18, 21, 24, 27], [0, 4, 8, 12, 16, 20, 24, 28, 32, 36], [0, 5, 10, 15, 20, 25, 30, 35, 40, 45], [0, 6, 12, 18, 24, 30, 36, 42, 48, 54], [0, 7, 14, 21, 28, 35, 42, 49, 56, 63], [0, 8, 16, 24, 32, 40, 48, 56, 64, 72], [0, 9, 18, 27, 36, 45, 54, 63, 72, 81], [0, 10, 20, 30, 40, 50, 60, 70, 80, 90], [0, 11, 22, 33, 44, 55, 66, 77, 88, 99]]\n"
     ]
    }
   ],
   "source": [
    "x,y=map(int,input().split(\",\"))  ## alocating 2 variables with map\n",
    "\n",
    "lst=[]  ## multi input\n",
    "\n",
    "for i in range(x):\n",
    "\n",
    "    tmp=[]\n",
    "    for j in range(y):\n",
    "\n",
    "        tmp.append(i*j)\n",
    "\n",
    "    lst.append(tmp) \n",
    "\n",
    "\n",
    "print(lst)"
   ]
  },
  {
   "cell_type": "markdown",
   "metadata": {},
   "source": [
    "---\n",
    "\n",
    "# Question 8\n",
    "\n",
    "### **Question:**\n",
    "\n",
    "> **_Write a program that accepts a comma separated sequence of words as input and prints the words in a comma-separated sequence after sorting them alphabetically._**\n",
    "\n",
    "> **_Suppose the following input is supplied to the program:_**\n",
    "\n",
    "\n",
    "without,hello,bag,world\n",
    "\n",
    "\n",
    "> **_Then, the output should be:_**\n",
    "\n",
    "\n",
    "bag,hello,without,world\n",
    "\n",
    "\n",
    "---\n",
    "\n",
    "### Hints:\n",
    "\n",
    "> **_In case of input data being supplied to the question, it should be assumed to be a console input._**\n",
    "\n",
    "---\n",
    "\n",
    "\n",
    "\n",
    "**Solutions:**"
   ]
  },
  {
   "cell_type": "code",
   "execution_count": 18,
   "metadata": {},
   "outputs": [
    {
     "name": "stdout",
     "output_type": "stream",
     "text": [
      "abb,ahmad,mahin,saba\n"
     ]
    }
   ],
   "source": [
    "lst=input().split(\",\")\n",
    "\n",
    "lst.sort()\n",
    "print(\",\".join(lst))    "
   ]
  },
  {
   "cell_type": "markdown",
   "metadata": {},
   "source": [
    "--\n",
    "\n",
    "# Question 9\n",
    "\n",
    "### **Question:**\n",
    "\n",
    "> **_Write a program that accepts sequence of lines as input and prints the lines after making all characters in the sentence capitalized._**\n",
    "\n",
    "> **_Suppose the following input is supplied to the program:_**\n",
    "\n",
    "\n",
    "Hello world\n",
    "\n",
    "Practice makes perfect\n",
    "\n",
    "\n",
    "> **_Then, the output should be:_**\n",
    "\n",
    "\n",
    "HELLO WORLD\n",
    "\n",
    "PRACTICE MAKES PERFECT\n",
    "\n",
    "\n",
    "---\n",
    "\n",
    "### Hints:\n",
    "\n",
    "> **_In case of input data being supplied to the question, it should be assumed to be a console input._**\n",
    "\n",
    "---\n",
    "\n",
    "\n",
    "\n",
    "**Solutions:**"
   ]
  },
  {
   "cell_type": "code",
   "execution_count": 3,
   "metadata": {},
   "outputs": [
    {
     "name": "stdout",
     "output_type": "stream",
     "text": [
      "PRACTICE MAKES PERFECT \n"
     ]
    }
   ],
   "source": [
    "lst = []\n",
    "\n",
    "\n",
    "while input():\n",
    "    x = input()\n",
    "    if len(x) == 0:\n",
    "        break\n",
    "    lst.append(x.upper())\n",
    "\n",
    "for line in lst:\n",
    "    print(line)"
   ]
  }
 ],
 "metadata": {
  "kernelspec": {
   "display_name": "Python 3",
   "language": "python",
   "name": "python3"
  },
  "language_info": {
   "codemirror_mode": {
    "name": "ipython",
    "version": 3
   },
   "file_extension": ".py",
   "mimetype": "text/x-python",
   "name": "python",
   "nbconvert_exporter": "python",
   "pygments_lexer": "ipython3",
   "version": "3.12.0"
  }
 },
 "nbformat": 4,
 "nbformat_minor": 2
}
