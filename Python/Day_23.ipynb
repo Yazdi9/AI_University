{
 "cells": [
  {
   "cell_type": "markdown",
   "metadata": {},
   "source": [
    "# Question 95\n",
    "\n",
    "### **Question**\n",
    "\n",
    "> **_Given the participants' score sheet for your University Sports Day, you are required to find the runner-up score. You are given scores. Store them in a list and find the score of the runner-up._**\n",
    "\n",
    "> **_If the following string is given as input to the program:_**\n",
    ">\n",
    "> 5\n",
    "> 2 3 6 6 5\n",
    ">\n",
    "> **_Then, the output of the program should be:_**\n",
    ">\n",
    "> 5\n",
    "\n",
    "### Hints\n",
    "\n",
    "> **_Make the scores unique and then find 2nd best number_**\n",
    "\n",
    "---\n",
    "\n",
    "**Solutions:**"
   ]
  },
  {
   "cell_type": "code",
   "execution_count": 4,
   "metadata": {},
   "outputs": [
    {
     "name": "stdout",
     "output_type": "stream",
     "text": [
      "5\n"
     ]
    }
   ],
   "source": [
    "arr=map(int,input().split())\n",
    "arr=list(set(arr))\n",
    "arr.sort()\n",
    "print(arr[-2])"
   ]
  },
  {
   "cell_type": "markdown",
   "metadata": {},
   "source": [
    "---\n",
    "\n",
    "# Question 96\n",
    "\n",
    "### **Question**\n",
    "\n",
    "> **_You are given a string S and width W.\n",
    "> Your task is to wrap the string into a paragraph of width._**\n",
    "\n",
    "> **_If the following string is given as input to the program:_**\n",
    ">\n",
    "> ABCDEFGHIJKLIMNOQRSTUVWXYZ\n",
    "> 4\n",
    ">\n",
    "> **_Then, the output of the program should be:_**\n",
    ">\n",
    "> ABCD\n",
    "> EFGH\n",
    "> IJKL\n",
    "> IMNO\n",
    "> QRST\n",
    "> UVWX\n",
    "> YZ\n",
    "\n",
    "### Hints\n",
    "\n",
    "> **_Use wrap function of textwrap module_**\n",
    "\n",
    "---\n",
    "\n",
    "**Solutions:**"
   ]
  },
  {
   "cell_type": "code",
   "execution_count": 10,
   "metadata": {},
   "outputs": [],
   "source": [
    "# import textwrap\n",
    "\n",
    "# string = input()\n",
    "# width = int(input())\n",
    "\n",
    "# print(textwrap.fill(string, width))"
   ]
  },
  {
   "cell_type": "markdown",
   "metadata": {},
   "source": [
    "---\n",
    "\n",
    "# Question 97\n",
    "\n",
    "### **Question**\n",
    "\n",
    "> **_You are given an integer, N. Your task is to print an alphabet rangoli of size N. (Rangoli is a form of Indian folk art based on creation of patterns.)_**\n",
    "\n",
    "> **_Different sizes of alphabet rangoli are shown below:_**\n",
    ">\n",
    "> $size = 3$\n",
    ">\n",
    "> ----c----\n",
    "\n",
    "> --c-b-c--\n",
    "\n",
    "> c-b-a-b-c\n",
    "\n",
    "> --c-b-c--\n",
    "\n",
    "> ----c----\n",
    ">\n",
    "> $size = 5$\n",
    ">\n",
    "> --------e--------\n",
    "\n",
    "> ------e-d-e------\n",
    "\n",
    "> ----e-d-c-d-e----\n",
    "\n",
    "> --e-d-c-b-c-d-e--\n",
    "\n",
    "> e-d-c-b-a-b-c-d-e\n",
    "\n",
    "> --e-d-c-b-c-d-e--"
   ]
  },
  {
   "cell_type": "code",
   "execution_count": 15,
   "metadata": {},
   "outputs": [
    {
     "name": "stdout",
     "output_type": "stream",
     "text": [
      "\n"
     ]
    }
   ],
   "source": [
    "import string \n",
    "\n",
    "def print_rangoli(size):\n",
    "\n",
    "    n=size \n",
    "    alpha=string.ascii_lowercase \n",
    "    width=4*n-3 \n",
    "\n",
    "    ans=[] \n",
    "    for i in range(n):\n",
    "        left=\"-\".join(alpha[n-i-1])\n",
    "        mid=left[-1:,0:-1]+left \n",
    "        final=mid.center(width,\"-\")\n",
    "        ans.append(final)\n",
    "\n",
    "    if len(ans) >1:\n",
    "\n",
    "        for i in ans[n-2::-1]:\n",
    "\n",
    "            ans.append(i)\n",
    "\n",
    "    ans=\"\\n\".join(ans) \n",
    "    print(ans)  \n",
    "\n",
    "if __name__==\"__main__\":\n",
    "         \n",
    "         n=int(input())\n",
    "         print_rangoli(n)\n",
    "           \n",
    "\n"
   ]
  },
  {
   "cell_type": "markdown",
   "metadata": {},
   "source": [
    "---\n",
    "\n",
    "# Question 98\n",
    "\n",
    "### **Question**\n",
    "\n",
    "> **_You are given a date. Your task is to find what the day is on that date._**\n",
    "\n",
    "**Input**\n",
    "\n",
    "> **_A single line of input containing the space separated month, day and year, respectively, in MM DD YYYY format._**\n",
    ">\n",
    "> 08 05 2015\n",
    "\n",
    "**Output**\n",
    "\n",
    "> **_Output the correct day in capital letters._**\n",
    ">\n",
    "> WEDNESDAY\n",
    "\n",
    "---\n",
    "\n",
    "### Hints\n",
    "\n",
    "> **_Use weekday function of calender module_**\n",
    "\n",
    "---\n",
    "\n",
    "**Solution:**"
   ]
  },
  {
   "cell_type": "code",
   "execution_count": 21,
   "metadata": {},
   "outputs": [
    {
     "name": "stdout",
     "output_type": "stream",
     "text": [
      "WEDNESDAY\n"
     ]
    }
   ],
   "source": [
    "import calendar \n",
    "\n",
    "month,day,year=map(int,input().split())\n",
    "\n",
    "dayld=calendar.weekday(year,month,day)\n",
    "\n",
    "print(calendar.day_name[dayld].upper())\n"
   ]
  },
  {
   "cell_type": "markdown",
   "metadata": {},
   "source": [
    "---\n",
    "\n",
    "# Question 99\n",
    "\n",
    "### **Question**\n",
    "\n",
    "> **_Given 2 sets of integers, M and N, print their symmetric difference in ascending order. The term symmetric difference indicates those values that exist in either M or N but do not exist in both._**\n",
    "\n",
    "**Input**\n",
    "\n",
    "> **_The first line of input contains an integer, M.The second line contains M space-separated integers.The third line contains an integer, N.The fourth line contains N space-separated integers._**\n",
    ">\n",
    "> 4\n",
    "> 2 4 5 9\n",
    "> 4\n",
    "> 2 4 11 12\n",
    "\n",
    "**Output**\n",
    "\n",
    "> **_Output the symmetric difference integers in ascending order, one per line._**\n",
    ">\n",
    "> 5\n",
    "> 9\n",
    "> 11\n",
    "> 12\n",
    "\n",
    "---\n",
    "\n",
    "### Hints\n",
    "\n",
    "> **_Use \\'^\\' to make symmetric difference operation._**\n",
    "\n",
    "---\n",
    "\n",
    "**Solution:**"
   ]
  },
  {
   "cell_type": "code",
   "execution_count": 27,
   "metadata": {},
   "outputs": [],
   "source": [
    "# n=int(input())\n",
    "# set1=set(map(int(input().split())))\n",
    "\n",
    "\n",
    "# m=int(input())\n",
    "# set2=set(map(int(input().split())))\n",
    "\n",
    "# ans=list(set1 ^ set2)\n",
    "# ans.sort()\n",
    "# for i in ans:\n",
    "#     print(i)"
   ]
  }
 ],
 "metadata": {
  "kernelspec": {
   "display_name": "Python 3",
   "language": "python",
   "name": "python3"
  },
  "language_info": {
   "codemirror_mode": {
    "name": "ipython",
    "version": 3
   },
   "file_extension": ".py",
   "mimetype": "text/x-python",
   "name": "python",
   "nbconvert_exporter": "python",
   "pygments_lexer": "ipython3",
   "version": "3.12.0"
  }
 },
 "nbformat": 4,
 "nbformat_minor": 2
}
