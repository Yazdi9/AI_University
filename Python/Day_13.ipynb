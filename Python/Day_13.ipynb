{
 "cells": [
  {
   "cell_type": "markdown",
   "metadata": {},
   "source": [
    "# Question 47\n",
    "\n",
    "### **Question**\n",
    "\n",
    "> **_Define a class named Circle which can be constructed by a radius. The Circle class has a method which can compute the area._**\n",
    "\n",
    "---\n",
    "\n",
    "### Hints\n",
    "\n",
    "> **_Use def methodName(self) to define a method._**\n",
    "\n",
    "---\n",
    "\n",
    "\n",
    "\n",
    "**Solutions:**"
   ]
  },
  {
   "cell_type": "code",
   "execution_count": 2,
   "metadata": {},
   "outputs": [
    {
     "name": "stdout",
     "output_type": "stream",
     "text": [
      "78.53999999999999\n"
     ]
    }
   ],
   "source": [
    "class Circle:\n",
    "\n",
    "    def __init__(self,r):\n",
    "\n",
    "        self.radius=r \n",
    "\n",
    "    def area(self):\n",
    "\n",
    "        return 3.1416*(self.radius**2)    \n",
    "    \n",
    "circle=Circle(5) \n",
    "print(circle.area())   "
   ]
  },
  {
   "cell_type": "markdown",
   "metadata": {},
   "source": [
    "---\n",
    "\n",
    "# Question 48\n",
    "\n",
    "### **Question**\n",
    "\n",
    "> **_Define a class named Rectangle which can be constructed by a length and width. The Rectangle class has a method which can compute the area._**\n",
    "\n",
    "---\n",
    "\n",
    "### Hints\n",
    "\n",
    "> **_Use def methodName(self) to define a method._**\n",
    "\n",
    "---\n",
    "\n",
    "\n",
    "\n",
    "**Solutions:**"
   ]
  },
  {
   "cell_type": "code",
   "execution_count": 3,
   "metadata": {},
   "outputs": [
    {
     "name": "stdout",
     "output_type": "stream",
     "text": [
      "8\n"
     ]
    }
   ],
   "source": [
    "class Rectangle:\n",
    "\n",
    "    def __init__(self,l,w):\n",
    "\n",
    "        self.length=l \n",
    "        self.width=w \n",
    "\n",
    "    def area(self):\n",
    "\n",
    "        return self.length * self.width \n",
    "\n",
    "rect=Rectangle(2,4)    \n",
    "\n",
    "print(rect.area())"
   ]
  },
  {
   "cell_type": "markdown",
   "metadata": {},
   "source": [
    "---\n",
    "\n",
    "# Question 49\n",
    "\n",
    "### **Question**\n",
    "\n",
    "> **_Define a class named Shape and its subclass Square. The Square class has an init function which takes a length as argument. Both classes have a area function which can print the area of the shape where Shape's area is 0 by default._**\n",
    "\n",
    "---\n",
    "\n",
    "### Hints\n",
    "\n",
    "> **_To override a method in super class, we can define a method with the same name in the super class._**\n",
    "\n",
    "---\n",
    "\n",
    "\n",
    "\n",
    "**Solutions:**"
   ]
  },
  {
   "cell_type": "code",
   "execution_count": 6,
   "metadata": {},
   "outputs": [
    {
     "name": "stdout",
     "output_type": "stream",
     "text": [
      "25\n",
      "0\n"
     ]
    }
   ],
   "source": [
    "class Shape:\n",
    "\n",
    "    def __init__(self):\n",
    "\n",
    "        pass \n",
    "\n",
    "    def area(self):\n",
    "\n",
    "        return 0 \n",
    "    \n",
    "class Square(Shape):\n",
    "\n",
    "    def __init__(self,length=0):\n",
    "\n",
    "        Shape.__init__(self)\n",
    "        self.length=length \n",
    "\n",
    "    def area(self):\n",
    "\n",
    "        return self.length * self.length\n",
    "\n",
    "\n",
    "Asqr=Square(5) \n",
    "\n",
    "print(Asqr.area())\n",
    "\n",
    "print(Square().area())\n",
    "\n"
   ]
  },
  {
   "cell_type": "markdown",
   "metadata": {},
   "source": [
    "---\n",
    "\n",
    "# Question 50\n",
    "\n",
    "### **Question**\n",
    "\n",
    "> **_Please raise a RuntimeError exception._**\n",
    "\n",
    "---\n",
    "\n",
    "### Hints\n",
    "\n",
    "> **_Use raise to raise an exception._**\n",
    "\n",
    "---\n",
    "\n",
    "**Solution:**"
   ]
  },
  {
   "cell_type": "code",
   "execution_count": 7,
   "metadata": {},
   "outputs": [
    {
     "ename": "RuntimeError",
     "evalue": "RuntimeError",
     "output_type": "error",
     "traceback": [
      "\u001b[1;31m---------------------------------------------------------------------------\u001b[0m",
      "\u001b[1;31mRuntimeError\u001b[0m                              Traceback (most recent call last)",
      "\u001b[1;32md:\\Github Projects\\AI School\\Python\\Day_13.ipynb Cell 8\u001b[0m line \u001b[0;36m1\n\u001b[1;32m----> <a href='vscode-notebook-cell:/d%3A/Github%20Projects/AI%20School/Python/Day_13.ipynb#X11sZmlsZQ%3D%3D?line=0'>1</a>\u001b[0m \u001b[39mraise\u001b[39;00m \u001b[39mRuntimeError\u001b[39;00m(\u001b[39m\"\u001b[39m\u001b[39mRuntimeError\u001b[39m\u001b[39m\"\u001b[39m)\n",
      "\u001b[1;31mRuntimeError\u001b[0m: RuntimeError"
     ]
    }
   ],
   "source": [
    "raise RuntimeError(\"RuntimeError\")"
   ]
  }
 ],
 "metadata": {
  "kernelspec": {
   "display_name": "Python 3",
   "language": "python",
   "name": "python3"
  },
  "language_info": {
   "codemirror_mode": {
    "name": "ipython",
    "version": 3
   },
   "file_extension": ".py",
   "mimetype": "text/x-python",
   "name": "python",
   "nbconvert_exporter": "python",
   "pygments_lexer": "ipython3",
   "version": "3.12.0"
  }
 },
 "nbformat": 4,
 "nbformat_minor": 2
}
