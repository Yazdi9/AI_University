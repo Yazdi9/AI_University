{
 "cells": [
  {
   "cell_type": "markdown",
   "metadata": {},
   "source": [
    "# Question 100\n",
    "\n",
    "### **Question**\n",
    "\n",
    "> **_You are given words. Some words may repeat. For each word, output its number of occurrences. The output order should correspond with the input order of appearance of the word. See the sample input/output for clarification._**\n",
    "\n",
    "> **_If the following string is given as input to the program:_**\n",
    ">\n",
    "> 4\n",
    "> bcdef\n",
    "> abcdefg\n",
    "> bcde\n",
    "> bcdef\n",
    ">\n",
    "> **_Then, the output of the program should be:_**\n",
    ">\n",
    "> 3\n",
    "> 2 1 1\n",
    "\n",
    "### Hints\n",
    "\n",
    "> **_Make a list to get the input order and a dictionary to count the word frequency_**\n",
    "\n",
    "---\n",
    "\n",
    "**Solutions:**"
   ]
  },
  {
   "cell_type": "code",
   "execution_count": 2,
   "metadata": {},
   "outputs": [
    {
     "name": "stdout",
     "output_type": "stream",
     "text": [
      "0\n"
     ]
    }
   ],
   "source": [
    "n=int(input())\n",
    "\n",
    "word_list=[]\n",
    "word_dict={}\n",
    "\n",
    "for i in range(n):\n",
    "\n",
    "    word=input()\n",
    "    if word not in word_dict:\n",
    "\n",
    "        word_list.append(word)\n",
    "\n",
    "    word_dict[word] = word_dict.get(word, 0) + 1\n",
    "\n",
    "print(len(word_dict)) \n",
    "\n",
    "for word in word_list: \n",
    "\n",
    "    print(word_dict[word], end=\" \")       "
   ]
  },
  {
   "cell_type": "markdown",
   "metadata": {},
   "source": [
    "---\n",
    "\n",
    "# Question 101\n",
    "\n",
    "### **Question**\n",
    "\n",
    "> **_You are given a string.Your task is to count the frequency of letters of the string and print the letters in descending order of frequency._**\n",
    "\n",
    "> **_If the following string is given as input to the program:_**\n",
    ">\n",
    "> aabbbccde\n",
    ">\n",
    "> **_Then, the output of the program should be:_**\n",
    ">\n",
    "> b 3\n",
    "> a 2\n",
    "> c 2\n",
    "> d 1\n",
    "> e 1\n",
    "\n",
    "### Hints\n",
    "\n",
    "> **_Count frequency with dictionary and sort by Value from dictionary Items_**\n",
    "\n",
    "---\n",
    "\n",
    "**Solutions:**"
   ]
  },
  {
   "cell_type": "code",
   "execution_count": 3,
   "metadata": {},
   "outputs": [
    {
     "name": "stdout",
     "output_type": "stream",
     "text": [
      "a 8\n",
      "b 4\n",
      "c 4\n",
      "d 2\n"
     ]
    }
   ],
   "source": [
    "word=input()\n",
    "dct={}\n",
    "for i in word:\n",
    "     dct[i] = dct.get(i, 0) + 1\n",
    "\n",
    "dct=sorted(dct.items(),key=lambda x:(-x[1],x[0])) \n",
    "for i in dct:\n",
    "\n",
    "         print(i[0], i[1])    "
   ]
  },
  {
   "cell_type": "markdown",
   "metadata": {},
   "source": [
    "---\n",
    "\n",
    "# Question 102\n",
    "\n",
    "### **Question**\n",
    "\n",
    "> **_Write a Python program that accepts a string and calculate the number of digits and letters._**\n",
    "\n",
    "**Input**\n",
    "\n",
    "> Hello321Bye360\n",
    "\n",
    "**Output**\n",
    "\n",
    "> Digit - 6\n",
    "\n",
    "> Letter - 8\n",
    "\n",
    "---\n",
    "\n",
    "### Hints\n",
    "\n",
    "> **_Use isdigit() and isalpha() function_**\n",
    "\n",
    "---\n",
    "\n",
    "**Solution:**"
   ]
  },
  {
   "cell_type": "code",
   "execution_count": 4,
   "metadata": {},
   "outputs": [
    {
     "name": "stdout",
     "output_type": "stream",
     "text": [
      "Digit- 2\n",
      "Letter- 4\n"
     ]
    }
   ],
   "source": [
    "word=input()\n",
    "digit , letter = 0, 0 \n",
    "\n",
    "for char in word:\n",
    "\n",
    "    digit +=char.isdigit()\n",
    "    letter +=char.isalpha()\n",
    "\n",
    "print(\"Digit-\",digit) \n",
    "print(\"Letter-\",letter)       "
   ]
  },
  {
   "cell_type": "markdown",
   "metadata": {},
   "source": [
    "---\n",
    "\n",
    "# Question 103\n",
    "\n",
    "### **Question**\n",
    "\n",
    "> **_Given a number N.Find Sum of 1 to N Using Recursion_**\n",
    "\n",
    "**Input**\n",
    "\n",
    "> 5\n",
    "\n",
    "**Output**\n",
    "\n",
    "> 15\n",
    "\n",
    "---\n",
    "\n",
    "### Hints\n",
    "\n",
    "> **_Make a recursive function to get the sum_**\n",
    "\n",
    "---\n",
    "\n",
    "**Solution:**"
   ]
  },
  {
   "cell_type": "code",
   "execution_count": 5,
   "metadata": {},
   "outputs": [
    {
     "name": "stdout",
     "output_type": "stream",
     "text": [
      "15\n"
     ]
    }
   ],
   "source": [
    "def rec(n):\n",
    "\n",
    "    if n==0:\n",
    "        return n\n",
    "    return rec(n-1)+(n)\n",
    "\n",
    "n=int(input())\n",
    "sum=rec(n)\n",
    "print(sum)"
   ]
  }
 ],
 "metadata": {
  "kernelspec": {
   "display_name": "Python 3",
   "language": "python",
   "name": "python3"
  },
  "language_info": {
   "codemirror_mode": {
    "name": "ipython",
    "version": 3
   },
   "file_extension": ".py",
   "mimetype": "text/x-python",
   "name": "python",
   "nbconvert_exporter": "python",
   "pygments_lexer": "ipython3",
   "version": "3.12.0"
  }
 },
 "nbformat": 4,
 "nbformat_minor": 2
}
