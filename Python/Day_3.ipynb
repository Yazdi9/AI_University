{
 "cells": [
  {
   "cell_type": "markdown",
   "metadata": {},
   "source": [
    "# Question 10\n",
    "\n",
    "### **Question**\n",
    "\n",
    "> **_Write a program that accepts a sequence of whitespace separated words as input and prints the words after removing all duplicate words and sorting them alphanumerically._**\n",
    "\n",
    "> **_Suppose the following input is supplied to the program:_**\n",
    "\n",
    "hello world and practice makes perfect and hello world again\n",
    "\n",
    "> **_Then, the output should be:_**\n",
    "\n",
    "again and hello makes perfect practice world\n",
    "\n",
    "---\n",
    "\n",
    "### Hints:\n",
    "\n",
    "> **_In case of input data being supplied to the question, it should be assumed to be a console input.We use set container to remove duplicated data automatically and then use sorted() to sort the data._**\n",
    "\n",
    "---\n",
    "\n",
    "**Solutions:**"
   ]
  },
  {
   "cell_type": "code",
   "execution_count": 9,
   "metadata": {},
   "outputs": [
    {
     "name": "stdout",
     "output_type": "stream",
     "text": [
      "Saba ahmad ielts\n"
     ]
    }
   ],
   "source": [
    "word=input().split()\n",
    "#print(type(word))\n",
    "for i in (word):\n",
    "    if(\n",
    "\n",
    "        word.count(i) > 1\n",
    "    ):\n",
    "        word.remove(i)\n",
    "\n",
    "word.sort()  \n",
    "print(\" \".join(word))      "
   ]
  },
  {
   "cell_type": "code",
   "execution_count": 7,
   "metadata": {},
   "outputs": [
    {
     "name": "stdout",
     "output_type": "stream",
     "text": [
      "ahmad ielts saba\n"
     ]
    }
   ],
   "source": [
    "word=input().split()\n",
    "[word.remove(i) for i in word if word.count(i) >1]\n",
    "word.sort()\n",
    "print(\" \".join(word))"
   ]
  },
  {
   "cell_type": "markdown",
   "metadata": {},
   "source": [
    "---\n",
    "\n",
    "# Question 11\n",
    "\n",
    "### **Question**\n",
    "\n",
    "> **_Write a program which accepts a sequence of comma separated 4 digit binary numbers as its input and then check whether they are divisible by 5 or not. The numbers that are divisible by 5 are to be printed in a comma separated sequence._**\n",
    "\n",
    "> **_Example:_**\n",
    "\n",
    "0100,0011,1010,1001\n",
    "\n",
    "> **_Then the output should be:_**\n",
    "\n",
    "1010\n",
    "\n",
    "> **_Notes: Assume the data is input by console._**\n",
    "\n",
    "---\n",
    "\n",
    "### Hints:\n",
    "\n",
    "> **_In case of input data being supplied to the question, it should be assumed to be a console input._**\n",
    "\n",
    "---\n",
    "\n",
    "**Solutions:**"
   ]
  },
  {
   "cell_type": "code",
   "execution_count": 10,
   "metadata": {},
   "outputs": [
    {
     "name": "stdout",
     "output_type": "stream",
     "text": [
      "11110\n"
     ]
    }
   ],
   "source": [
    "def check(x):\n",
    "    return int(x,2) % 5==0 \n",
    "\n",
    "\n",
    "data=input().split()\n",
    "data=list(\n",
    "\n",
    "    filter(check,data)\n",
    ")\n",
    "print(\",\".join(data))"
   ]
  },
  {
   "cell_type": "markdown",
   "metadata": {},
   "source": [
    "---\n",
    "\n",
    "# Question 12\n",
    "\n",
    "### **Question:**\n",
    "\n",
    "> **_Write a program, which will find all such numbers between 1000 and 3000 (both included) such that each digit of the number is an even number.The numbers obtained should be printed in a comma-separated sequence on a single line._**\n",
    "\n",
    "---\n",
    "\n",
    "### Hints:\n",
    "\n",
    "> **_In case of input data being supplied to the question, it should be assumed to be a console input._**\n",
    "\n",
    "---\n",
    "\n",
    "**Solutions:**"
   ]
  },
  {
   "cell_type": "code",
   "execution_count": 13,
   "metadata": {},
   "outputs": [
    {
     "name": "stdout",
     "output_type": "stream",
     "text": [
      "2000 2002 2004 2006 2008 2020 2022 2024 2026 2028 2040 2042 2044 2046 2048 2060 2062 2064 2066 2068 2080 2082 2084 2086 2088 2200 2202 2204 2206 2208 2220 2222 2224 2226 2228 2240 2242 2244 2246 2248 2260 2262 2264 2266 2268 2280 2282 2284 2286 2288 2400 2402 2404 2406 2408 2420 2422 2424 2426 2428 2440 2442 2444 2446 2448 2460 2462 2464 2466 2468 2480 2482 2484 2486 2488 2600 2602 2604 2606 2608 2620 2622 2624 2626 2628 2640 2642 2644 2646 2648 2660 2662 2664 2666 2668 2680 2682 2684 2686 2688 2800 2802 2804 2806 2808 2820 2822 2824 2826 2828 2840 2842 2844 2846 2848 2860 2862 2864 2866 2868 2880 2882 2884 2886 2888\n"
     ]
    }
   ],
   "source": [
    "lst=[]\n",
    "for i in range(1000,3001):\n",
    "    flag=1 \n",
    "    for j in str(i):\n",
    "        if ord(j) % 2 !=0:\n",
    "            flag=0\n",
    "\n",
    "    if flag==1:\n",
    "        lst.append(str(i))\n",
    "print(\" \".join(lst))"
   ]
  },
  {
   "cell_type": "markdown",
   "metadata": {},
   "source": [
    "---\n",
    "\n",
    "# Question 13\n",
    "\n",
    "### **Question:**\n",
    "\n",
    "> **_Write a program that accepts a sentence and calculate the number of letters and digits._**\n",
    "\n",
    "> **_Suppose the following input is supplied to the program:_**\n",
    "\n",
    "hello world! 123\n",
    "\n",
    "> **_Then, the output should be:_**\n",
    "\n",
    "LETTERS 10\n",
    "\n",
    "DIGITS 3\n",
    "\n",
    "---\n",
    "\n",
    "### Hints:\n",
    "\n",
    "> **_In case of input data being supplied to the question, it should be assumed to be a console input._**\n",
    "\n",
    "---\n",
    "\n",
    "**Solutions:**"
   ]
  },
  {
   "cell_type": "code",
   "execution_count": 17,
   "metadata": {},
   "outputs": [
    {
     "name": "stdout",
     "output_type": "stream",
     "text": [
      "LETTERS4\n",
      "Digits2\n"
     ]
    }
   ],
   "source": [
    "word=input()\n",
    "\n",
    "letter,digit=0,0  #allocation 2 variables \n",
    "\n",
    "for i in word:\n",
    "    if(\"a\"<=i<=\"z\") or (\"A\"<=i<\"Z\"):\n",
    "        letter +=1 \n",
    "    if \"0\"<=i and i <=\"9\":\n",
    "        digit +=1 \n",
    "\n",
    "print(\"LETTERS{0}\\nDigits{1}\".format(letter,digit))            "
   ]
  }
 ],
 "metadata": {
  "kernelspec": {
   "display_name": "Python 3",
   "language": "python",
   "name": "python3"
  },
  "language_info": {
   "codemirror_mode": {
    "name": "ipython",
    "version": 3
   },
   "file_extension": ".py",
   "mimetype": "text/x-python",
   "name": "python",
   "nbconvert_exporter": "python",
   "pygments_lexer": "ipython3",
   "version": "3.12.0"
  }
 },
 "nbformat": 4,
 "nbformat_minor": 2
}
