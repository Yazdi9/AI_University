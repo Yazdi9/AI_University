{
 "cells": [
  {
   "cell_type": "markdown",
   "metadata": {},
   "source": [
    "# Question 14\n",
    "\n",
    "### **Question:**\n",
    "\n",
    "> **_Write a program that accepts a sentence and calculate the number of upper case letters and lower case letters._**\n",
    "\n",
    "> **_Suppose the following input is supplied to the program:_**\n",
    "\n",
    "\n",
    "Hello world!\n",
    "\n",
    "\n",
    "> **_Then, the output should be:_**\n",
    "\n",
    "\n",
    "UPPER CASE 1\n",
    "\n",
    "LOWER CASE 9\n",
    "\n",
    "\n",
    "---\n",
    "\n",
    "### Hints:\n",
    "\n",
    "> **_In case of input data being supplied to the question, it should be assumed to be a console input._**\n",
    "\n",
    "---\n",
    "\n",
    "\n",
    "\n",
    "**Solutions:**"
   ]
  },
  {
   "cell_type": "code",
   "execution_count": 1,
   "metadata": {},
   "outputs": [
    {
     "name": "stdout",
     "output_type": "stream",
     "text": [
      "UPPER CASE 4\n",
      "LOWER CASE 8\n"
     ]
    }
   ],
   "source": [
    "word=input()\n",
    "upper,lower=0,0 \n",
    "\n",
    "for i in word:\n",
    "    if \"a\"<=i and i<\"z\":\n",
    "        lower +=1 \n",
    "    if \"A\"<=i and i<\"Z\":\n",
    "        upper +=1 \n",
    "\n",
    "print(\"UPPER CASE {0}\\nLOWER CASE {1}\".format(upper, lower))          "
   ]
  },
  {
   "cell_type": "markdown",
   "metadata": {},
   "source": [
    "---\n",
    "\n",
    "# Question 15\n",
    "\n",
    "### **Question:**\n",
    "\n",
    "> **_Write a program that computes the value of a+aa+aaa+aaaa with a given digit as the value of a._**\n",
    "\n",
    "> **_Suppose the following input is supplied to the program:_**\n",
    "\n",
    "\n",
    "9\n",
    "\n",
    "\n",
    "> **_Then, the output should be:_**\n",
    "\n",
    "\n",
    "11106\n",
    "\n",
    "\n",
    "---\n",
    "\n",
    "### Hints:\n",
    "\n",
    "> **_In case of input data being supplied to the question, it should be assumed to be a console input._**\n",
    "\n",
    "---\n",
    "\n",
    "\n",
    "\n",
    "**Solutions:**"
   ]
  },
  {
   "cell_type": "code",
   "execution_count": 6,
   "metadata": {},
   "outputs": [
    {
     "name": "stdout",
     "output_type": "stream",
     "text": [
      "1110222033304440\n"
     ]
    }
   ],
   "source": [
    "a = input()\n",
    "total, tmp = 0, str()  # initialing an integer and empty string\n",
    "\n",
    "for i in range(4):\n",
    "    tmp += a  # concatenating 'a' to 'tmp'\n",
    "    total += int(tmp)  # converting string type to integer type\n",
    "\n",
    "print(total)  "
   ]
  }
 ],
 "metadata": {
  "kernelspec": {
   "display_name": "Python 3",
   "language": "python",
   "name": "python3"
  },
  "language_info": {
   "codemirror_mode": {
    "name": "ipython",
    "version": 3
   },
   "file_extension": ".py",
   "mimetype": "text/x-python",
   "name": "python",
   "nbconvert_exporter": "python",
   "pygments_lexer": "ipython3",
   "version": "3.12.0"
  }
 },
 "nbformat": 4,
 "nbformat_minor": 2
}
