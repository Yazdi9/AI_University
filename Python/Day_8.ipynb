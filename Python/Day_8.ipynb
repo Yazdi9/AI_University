{
 "cells": [
  {
   "cell_type": "markdown",
   "metadata": {},
   "source": [
    "# Question 22\n",
    "\n",
    "### **Question:**\n",
    "\n",
    "> **_Write a program to compute the frequency of the words from the input. The output should output after sorting the key alphanumerically._**\n",
    "\n",
    "> **_Suppose the following input is supplied to the program:_**\n",
    "\n",
    "\n",
    "New to Python or choosing between Python 2 and Python 3? Read Python 2 or Python 3.\n",
    "\n",
    "\n",
    "> **_Then, the output should be:_**\n",
    "\n",
    "```\n",
    "2:2\n",
    "3.:1\n",
    "3?:1\n",
    "New:1\n",
    "Python:5\n",
    "Read:1\n",
    "and:1\n",
    "between:1\n",
    "choosing:1\n",
    "or:2\n",
    "to:1\n",
    "```\n",
    "\n",
    "---\n",
    "\n",
    "### Hints\n",
    "\n",
    "> **_In case of input data being supplied to the question, it should be assumed to be a console input._**\n",
    "\n",
    "---"
   ]
  },
  {
   "cell_type": "code",
   "execution_count": 1,
   "metadata": {},
   "outputs": [
    {
     "name": "stdout",
     "output_type": "stream",
     "text": [
      "42 1\n",
      "olymiad2 1\n",
      "saba 2\n",
      "sanaz 1\n"
     ]
    }
   ],
   "source": [
    "ss=input().split()\n",
    "dict={}\n",
    "\n",
    "for i in ss:\n",
    "\n",
    "    i=dict.setdefault(\n",
    "\n",
    "        i ,ss.count(i)\n",
    "    )\n",
    "dict=sorted(\n",
    "\n",
    "    dict.items()\n",
    ") \n",
    "\n",
    "for i in dict:\n",
    "    print(\"%s %d\" %(i[0],i[1]))"
   ]
  },
  {
   "cell_type": "markdown",
   "metadata": {},
   "source": [
    "---\n",
    "\n",
    "# Question 23\n",
    "\n",
    "### **Question:**\n",
    "\n",
    "> **_Write a method which can calculate square value of number_**\n",
    "\n",
    "---\n",
    "\n",
    "### Hints:\n",
    "\n",
    "\n",
    "Using the ** operator which can be written as n**p where means n^p\n",
    "\n",
    "\n",
    "---\n",
    "\n",
    "\n",
    "\n",
    "**Solutions:**"
   ]
  },
  {
   "cell_type": "code",
   "execution_count": 2,
   "metadata": {},
   "outputs": [
    {
     "name": "stdout",
     "output_type": "stream",
     "text": [
      "25\n"
     ]
    }
   ],
   "source": [
    "n=int(input())\n",
    "print(n**2)"
   ]
  },
  {
   "cell_type": "markdown",
   "metadata": {},
   "source": [
    "---\n",
    "\n",
    "# Question 24\n",
    "\n",
    "### **Question:**\n",
    "\n",
    "> **_Python has many built-in functions, and if you do not know how to use it, you can read document online or find some books. But Python has a built-in document function for every built-in functions._**\n",
    "\n",
    "> **_Please write a program to print some Python built-in functions documents, such as abs(), int(), raw_input()_**\n",
    "\n",
    "> **_And add document for your own function_**\n",
    "\n",
    "### Hints:\n",
    "\n",
    "\n",
    "The built-in document method is __doc__\n",
    "\n",
    "\n",
    "---\n",
    "\n",
    "\n",
    "\n",
    "**Solutions:**"
   ]
  },
  {
   "cell_type": "code",
   "execution_count": 5,
   "metadata": {},
   "outputs": [
    {
     "name": "stdout",
     "output_type": "stream",
     "text": [
      "str(object='') -> str\n",
      "str(bytes_or_buffer[, encoding[, errors]]) -> str\n",
      "\n",
      "Create a new string object from the given object. If encoding or\n",
      "errors is specified, then the object must expose a data buffer\n",
      "that will be decoded using the given encoding and error handler.\n",
      "Otherwise, returns the result of object.__str__() (if defined)\n",
      "or repr(object).\n",
      "encoding defaults to sys.getdefaultencoding().\n",
      "errors defaults to 'strict'.\n",
      "Return a new list containing all items from the iterable in ascending order.\n",
      "\n",
      "A custom key function can be supplied to customize the sort order, and the\n",
      "reverse flag can be set to request the result in descending order.\n",
      "81\n",
      "None\n"
     ]
    }
   ],
   "source": [
    "print(str.__doc__)\n",
    "print(sorted.__doc__)\n",
    "\n",
    "def pow(n,p):\n",
    "\n",
    "    return n**p \n",
    "\n",
    "print(pow(3,4))\n",
    "print(pow.__doc__)"
   ]
  },
  {
   "cell_type": "markdown",
   "metadata": {},
   "source": [
    "---\n",
    "\n",
    "# Question 25\n",
    "\n",
    "### **Question:**\n",
    "\n",
    "> **_Define a class, which have a class parameter and have a same instance parameter._**\n",
    "\n",
    "---\n",
    "\n",
    "### Hints:\n",
    "\n",
    "\n",
    "Define an instance parameter, need add it in __init__ method.You can init an object with construct parameter or set the value later\n",
    "\n",
    "\n",
    "---\n",
    "\n",
    "\n",
    "\n",
    "**Solutions:**"
   ]
  },
  {
   "cell_type": "code",
   "execution_count": 6,
   "metadata": {},
   "outputs": [
    {
     "name": "stdout",
     "output_type": "stream",
     "text": [
      "car name is Honda\n",
      "car name is Toyota\n"
     ]
    }
   ],
   "source": [
    "class Car:\n",
    "\n",
    "    name=\"car\"\n",
    "\n",
    "    def __init__(self,name=None):\n",
    "\n",
    "        self.name=name\n",
    "\n",
    "honda=Car(\"Honda\")    \n",
    "print(f\"{Car.name} name is {honda.name}\")\n",
    "\n",
    "toyota=Car(\"Toyota\")\n",
    "toyota.name=\"Toyota\"\n",
    "print(f\"{Car.name} name is {toyota.name}\")\n",
    "\n",
    "\n",
    "\n"
   ]
  }
 ],
 "metadata": {
  "kernelspec": {
   "display_name": "Python 3",
   "language": "python",
   "name": "python3"
  },
  "language_info": {
   "codemirror_mode": {
    "name": "ipython",
    "version": 3
   },
   "file_extension": ".py",
   "mimetype": "text/x-python",
   "name": "python",
   "nbconvert_exporter": "python",
   "pygments_lexer": "ipython3",
   "version": "3.12.0"
  }
 },
 "nbformat": 4,
 "nbformat_minor": 2
}
